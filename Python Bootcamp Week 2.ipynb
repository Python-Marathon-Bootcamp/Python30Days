{
 "cells": [
  {
   "cell_type": "markdown",
   "metadata": {},
   "source": [
    "### IF...Else Statements"
   ]
  },
  {
   "cell_type": "markdown",
   "metadata": {},
   "source": [
    "This topic builds on the logical operators we touched on *Operators* which include:\n",
    "\n",
    "* Equals: `a == b`\n",
    "* Not Equals: `a != b`\n",
    "* Less than: `a < b`\n",
    "* Less than or equal to: `a <= b`\n",
    "* Greater than: `a > b`\n",
    "\n",
    "We shall be using these conditions in \"if statements\" and loops(which we shall learn later).\n",
    "\n",
    "An \"if statement\" is written by using the `if` keyword"
   ]
  },
  {
   "cell_type": "markdown",
   "metadata": {},
   "source": [
    "> When using Python if statements, fuctions, classes and loops, we must take note that Python relies on indentation (whitespace at the beginning of a line) to define scope in the code. Other programming languages often use curly-brackets for this purpose i.e {}"
   ]
  },
  {
   "cell_type": "code",
   "execution_count": null,
   "metadata": {},
   "outputs": [],
   "source": [
    "# Example of an if statement\n",
    "\n",
    "a = 10\n",
    "b = 20\n",
    "if b > a:\n",
    "  print(\"b is greater than a\")\n",
    "\n",
    "# In this example we use two variables, a and b, which are used as part of the if statement to test whether b is greater than a.\n",
    "# Since a is 10, and b is 20, we know that 20 is greater than 10, and so we print to screen that \"b is greater than a\"."
   ]
  },
  {
   "cell_type": "markdown",
   "metadata": {},
   "source": [
    "### Elif\n",
    "\n",
    "The elif keyword is Python's way of saying \"if the previous conditions are not true, then try this condition\"."
   ]
  },
  {
   "cell_type": "code",
   "execution_count": null,
   "metadata": {},
   "outputs": [],
   "source": [
    "### Example\n",
    "\n",
    "a = 20\n",
    "b = 20\n",
    "if b > a:\n",
    "  print(\"b is greater than a\")\n",
    "elif a == b:\n",
    "  print(\"a and b are equal\")\n",
    "\n",
    "# In this example, a is equal to b, so the first condition is not true, but the elif condition is true, \n",
    "# so we print to screen that \"a and b are equal\".\n",
    "\n"
   ]
  },
  {
   "cell_type": "markdown",
   "metadata": {},
   "source": [
    "### Else\n",
    "\n",
    "The `else` keyword catches anything which isn't satisfied by the preceding conditions."
   ]
  },
  {
   "cell_type": "code",
   "execution_count": null,
   "metadata": {},
   "outputs": [],
   "source": [
    "# Example\n",
    "\n",
    "a = 50\n",
    "b = 20\n",
    "if b > a:\n",
    "  print(\"b is greater than a\")\n",
    "elif a == b:\n",
    "  print(\"a and b are equal\")\n",
    "else:\n",
    "  print(\"a is greater than b\")\n",
    "\n",
    "# In this example a is greater than b, so the first condition is not true, also the elif condition is not true, \n",
    "# so we go to the else condition and print to screen that \"a is greater than b\".\n",
    "\n"
   ]
  },
  {
   "cell_type": "code",
   "execution_count": null,
   "metadata": {},
   "outputs": [],
   "source": [
    "# You can also have an else without the elif as shown below:\n",
    "\n",
    "a = 50\n",
    "b = 20\n",
    "if b > a:\n",
    "  print(\"b is greater than a\")\n",
    "else:\n",
    "  print(\"b is less than a\")"
   ]
  },
  {
   "cell_type": "markdown",
   "metadata": {},
   "source": [
    "### Tertiary Operators\n",
    "\n",
    "Ternary operators also known as conditional expressions are operators that evaluate something based on a condition being true or false.\n",
    "\n",
    "It simply allows you to test a condition in a single line replacing the multiline if-else making the code compact.\n",
    "\n",
    "**syntax**:[on_true] if [expression] else [on_false]\n",
    "\n",
    "#### Examples"
   ]
  },
  {
   "cell_type": "markdown",
   "metadata": {},
   "source": [
    "#### Short Hand If statement\n",
    "\n",
    "If you have only one statement to execute, you can put it on the same line as the `if` statement.\n"
   ]
  },
  {
   "cell_type": "code",
   "execution_count": null,
   "metadata": {},
   "outputs": [],
   "source": [
    "# Example\n",
    "\n",
    "a = 50\n",
    "b = 20\n",
    "if a > b: print(\"a is greater than b\")"
   ]
  },
  {
   "cell_type": "markdown",
   "metadata": {},
   "source": [
    "#### Short Hand If...Else statement"
   ]
  },
  {
   "cell_type": "code",
   "execution_count": null,
   "metadata": {},
   "outputs": [],
   "source": [
    "# Example\n",
    "\n",
    "print(\"a is greater than b\") if a > b else print(\"a is less than b\")\n",
    "\n",
    "# You can also have multiple else statements on the same line\n",
    "# Example\n",
    "a = 50\n",
    "b = 50\n",
    "print(\"a is greater than b\") if a > b else print(\"a is equal to b\") if a == b else print(\"a is less than b\")\n",
    "\n"
   ]
  },
  {
   "cell_type": "markdown",
   "metadata": {},
   "source": [
    "#### Using And operator\n",
    "\n",
    "the `and` operator combines conditional statements"
   ]
  },
  {
   "cell_type": "code",
   "execution_count": null,
   "metadata": {},
   "outputs": [],
   "source": [
    "# Example\n",
    "\n",
    "x = 100\n",
    "y = 50\n",
    "z = 200\n",
    "if x > y and z > x:\n",
    "  print(\"Both conditions are True\")"
   ]
  },
  {
   "cell_type": "markdown",
   "metadata": {},
   "source": [
    "#### Using Or operator\n",
    "\n",
    "The `or` operator is also used to combine conditional statements"
   ]
  },
  {
   "cell_type": "code",
   "execution_count": null,
   "metadata": {},
   "outputs": [],
   "source": [
    "# Example\n",
    "\n",
    "x = 100\n",
    "y = 50\n",
    "z = 20\n",
    "if x > y or z > x:\n",
    "  print(\"Atleast one of the conditions is True\")\n"
   ]
  },
  {
   "cell_type": "markdown",
   "metadata": {},
   "source": [
    "#### Nested If\n",
    "\n",
    "Nested if statements is just an `if` statement inside an `if` statements."
   ]
  },
  {
   "cell_type": "code",
   "execution_count": null,
   "metadata": {},
   "outputs": [],
   "source": [
    "# Example\n",
    "\n",
    "x = 18\n",
    "\n",
    "if x < 10:\n",
    "    print(\"Child\")\n",
    "if x >= 18:\n",
    "    print(\"adult\")\n",
    "else:\n",
    "    print(\"Teenage\")"
   ]
  },
  {
   "cell_type": "markdown",
   "metadata": {},
   "source": [
    "#### The pass Statement\n",
    "\n",
    "Since `if` statements cannot be empty,  we should use the `pass` statement to avoid getting an errorin cases where the `if`statement has no condition/content "
   ]
  },
  {
   "cell_type": "code",
   "execution_count": null,
   "metadata": {},
   "outputs": [],
   "source": [
    "# Example\n",
    "\n",
    "a = 5\n",
    "b = 20\n",
    "\n",
    "if b > a:\n",
    "  pass"
   ]
  },
  {
   "cell_type": "code",
   "execution_count": null,
   "metadata": {},
   "outputs": [],
   "source": [
    "a = 50\n",
    "b = 20\n",
    "\n",
    "if b > a:\n",
    "    print('b is greater than a')\n",
    "elif a >b:\n",
    "    pass"
   ]
  },
  {
   "cell_type": "markdown",
   "metadata": {},
   "source": [
    "### Python Loops\n",
    "\n",
    "Python has two types of loops\n",
    "\n",
    "* while loops\n",
    "* for loops\n"
   ]
  },
  {
   "cell_type": "markdown",
   "metadata": {},
   "source": [
    "### While Loops\n",
    "\n",
    "The `while` loop executes a set of statements as long as a condition is true."
   ]
  },
  {
   "cell_type": "code",
   "execution_count": null,
   "metadata": {},
   "outputs": [],
   "source": [
    "# Example\n",
    "\n",
    "a = 1\n",
    "while a < 6:\n",
    "    print(a)\n",
    "    a += 1\n",
    "    \n",
    "# **Note**: remember to increment a, or else the loop will continue forever.\n",
    "# The while loop checks if \"a\" (which is 1), is less than 6. If the condition is met, it should print \"a\". Increment \"a\" by 1 \n",
    "# to get the values upto 5 since that will be the greatest number less than 6"
   ]
  },
  {
   "cell_type": "markdown",
   "metadata": {},
   "source": [
    "#### The break Statement\n",
    "\n",
    "The `break` statement stops the loop even if the while condition is true"
   ]
  },
  {
   "cell_type": "code",
   "execution_count": null,
   "metadata": {},
   "outputs": [],
   "source": [
    "# Example\n",
    "\n",
    "# Exit the loop when \"a\" is 3\n",
    "\n",
    "a = 1\n",
    "while a < 6:\n",
    "    print(a)\n",
    "    if a == 3:\n",
    "        break\n",
    "    a += 1\n",
    "        \n",
    "# This will only return 1,2 and 3 abd then it will break the loop at 3\n"
   ]
  },
  {
   "cell_type": "markdown",
   "metadata": {},
   "source": [
    "#### The continue Statement\n",
    "\n",
    "The `continue` statement stops the current iteration and continue with the next."
   ]
  },
  {
   "cell_type": "code",
   "execution_count": null,
   "metadata": {},
   "outputs": [],
   "source": [
    "# Example\n",
    "\n",
    "# Continue to the next iteration if \"a\" is 3:\n",
    "\n",
    "a = 0\n",
    "while a < 6:\n",
    "    a += 1\n",
    "    if a == 3:\n",
    "        continue\n",
    "    print(a)\n",
    "\n",
    "# Note that number 3 is missing in the result as `continue` skips it to the next iteration\n"
   ]
  },
  {
   "cell_type": "markdown",
   "metadata": {},
   "source": [
    "#### The else Statement\n",
    "\n",
    "The `else` statement runs a statement once when the condition is no longer true"
   ]
  },
  {
   "cell_type": "code",
   "execution_count": null,
   "metadata": {},
   "outputs": [],
   "source": [
    "# Example\n",
    "\n",
    "a = 0\n",
    "while a < 6:\n",
    "    a += 1\n",
    "    print(a)\n",
    "else:\n",
    "    print(\"a is greater or equal to 6\")"
   ]
  },
  {
   "cell_type": "markdown",
   "metadata": {},
   "source": [
    "#### ============================= BRAIN CHALLENGE ================================================\n",
    "1. Write an `if--else` statement that solving the problem of age among humans(toddler =0-5, child =5-10, Teen = 11 -17, Young adult= 18-35, adult = 35+, old = 60+)\n",
    "\n",
    "2. Write a while loop that prints out all even numbers between 1 and 100\n",
    "\n",
    "#### ============================================================================================="
   ]
  },
  {
   "cell_type": "code",
   "execution_count": null,
   "metadata": {},
   "outputs": [],
   "source": []
  },
  {
   "cell_type": "markdown",
   "metadata": {},
   "source": [
    "### For Loops\n",
    "\n",
    "A `for` loop is used for iterating over a sequence (i.e a list, a tuple, a dictionary, a set, or a string).\n",
    "\n",
    "Python's `for`loop works like an iterator method as found in other object-orientated programming languages like C++.\n",
    "\n",
    "The `for` loop executes a set of statements once for each item in a list, tuple, set etc."
   ]
  },
  {
   "cell_type": "code",
   "execution_count": null,
   "metadata": {},
   "outputs": [],
   "source": [
    "# Example\n",
    "# Print each fruit in a fruit list:\n",
    "\n",
    "fruits = [\"mango\", \"banana\", \"orange\"]\n",
    "for x in fruits:\n",
    "    print(x)\n",
    "    \n",
    "# for loop prints out all the elements from 1st to last"
   ]
  },
  {
   "cell_type": "markdown",
   "metadata": {},
   "source": [
    "#### Looping Through a String\n",
    "\n",
    "Even strings are iterable objects since they contain a sequence of characters"
   ]
  },
  {
   "cell_type": "code",
   "execution_count": null,
   "metadata": {},
   "outputs": [],
   "source": [
    "for x in \"Pythonnista\":\n",
    "    print(x)\n",
    "    \n",
    "# This just means that we print every character(x) in \"Pythonnista\""
   ]
  },
  {
   "cell_type": "markdown",
   "metadata": {},
   "source": [
    "### Using the break Statement\n",
    "\n",
    "The break statement stops the loop before it has looped through all the items."
   ]
  },
  {
   "cell_type": "code",
   "execution_count": null,
   "metadata": {},
   "outputs": [],
   "source": [
    "# Example\n",
    "\n",
    "developer = [ \"C++\", \"Pythonista\",\"Java\"]\n",
    "for x in developer:\n",
    "    print(x)\n",
    "    if x == \"Pythonista\":\n",
    "        break\n",
    "        \n",
    "# The above code checks the list for 'Pythonista' , if it finds it in the list, it breaks the loop\n",
    "\n",
    "\n"
   ]
  },
  {
   "cell_type": "code",
   "execution_count": null,
   "metadata": {},
   "outputs": [],
   "source": [
    "# Example 2\n",
    "\n",
    "developer = [ \"C++\", \"Pythonista\",\"Java\"]\n",
    "for x in developer:\n",
    "    if x == \"Pythonista\":\n",
    "        break\n",
    "    print(x)\n",
    "\n",
    "# The second example prints out all values before Pythonista since it breaks the loop at Pythonnista "
   ]
  },
  {
   "cell_type": "markdown",
   "metadata": {},
   "source": [
    "### The continue Statement\n",
    "\n",
    "The continue statement stops the current iteration of the loop, and continue with the next."
   ]
  },
  {
   "cell_type": "code",
   "execution_count": null,
   "metadata": {},
   "outputs": [],
   "source": [
    "developer = [ \"C++\", \"Pythonnista\",\"Java\"]\n",
    "for x in developer:\n",
    "    \n",
    "    if x == \"Pythonnista\":\n",
    "        continue\n",
    "    print(x)\n",
    "    \n",
    "# This code prints all items in the list except Pythonista as *continue* skips it to move to the next item"
   ]
  },
  {
   "cell_type": "markdown",
   "metadata": {},
   "source": [
    "#### The range() Method\n",
    "\n",
    "To loop through a set of code a specified number of times, we can use the `range()` function.\n",
    "\n",
    "The `range()` function returns a sequence of numbers, starting from 0 by default, and increments by 1 (by default), and ends at a specified number.let's say 10."
   ]
  },
  {
   "cell_type": "code",
   "execution_count": null,
   "metadata": {},
   "outputs": [],
   "source": [
    "# Example\n",
    "\n",
    "for x in range(10):\n",
    "    print(x)\n",
    "    \n",
    "# Since range starts counting from 0, it will always be less one of the number specified."
   ]
  },
  {
   "cell_type": "markdown",
   "metadata": {},
   "source": [
    "The `range()` function defaults to increasing the sequence by 1, however it is possible to specify the increment value by adding a third parameter e.g `range(1, 10, 2)`"
   ]
  },
  {
   "cell_type": "code",
   "execution_count": null,
   "metadata": {},
   "outputs": [],
   "source": [
    "for x in range(1, 10, 2):\n",
    "    print(x)\n",
    "    \n",
    "# print out the odd numbers between 1-10"
   ]
  },
  {
   "cell_type": "markdown",
   "metadata": {},
   "source": [
    "#### Else in For Loop\n",
    "\n",
    "The `else` keyword in a for loop specifies a block of code to be executed when the loop is finished"
   ]
  },
  {
   "cell_type": "code",
   "execution_count": null,
   "metadata": {},
   "outputs": [],
   "source": [
    "for x in range(10):\n",
    "    print(x)\n",
    "else:\n",
    "    print(\"Above 10!\")"
   ]
  },
  {
   "cell_type": "markdown",
   "metadata": {},
   "source": [
    "### Nested Loops\n",
    "\n",
    "A nested loop is simply a loop inside a loop.\n",
    "\n",
    "For each iteration of the \"outer loop\", the \"inner loop\" will also be executed."
   ]
  },
  {
   "cell_type": "code",
   "execution_count": null,
   "metadata": {},
   "outputs": [],
   "source": [
    "colors = [\"red\", \"blue\", \"green\"]\n",
    "fruits = [\"apple\", \"banana\", \"mango\"]\n",
    "\n",
    "for x in colors:\n",
    "    for y in fruits:\n",
    "        print(x, y)"
   ]
  },
  {
   "cell_type": "code",
   "execution_count": null,
   "metadata": {},
   "outputs": [],
   "source": [
    "# or\n",
    "vowels = ['a','e','i','o','u']\n",
    "\n",
    "for x in range(6):\n",
    "    for y in vowels:\n",
    "        print(x,y)"
   ]
  },
  {
   "cell_type": "markdown",
   "metadata": {},
   "source": [
    "### Functions\n",
    "\n",
    "A function is a block of code that performs a particular function in a program that only runs when it is called.\n",
    "\n",
    "You can pass data (known as parameters/arguments) into a function.\n",
    "\n",
    "A function can either perform a function or return data as a result.\n",
    "\n",
    "In Python a function is defined using the `def` keyword\n",
    "\n",
    "> **NOTE**: Inorder to run a function, you must call it"
   ]
  },
  {
   "cell_type": "code",
   "execution_count": 1,
   "metadata": {},
   "outputs": [],
   "source": [
    "# example of a function\n",
    "# creating a function that prints out a statementabs\n",
    "\n",
    "def my_function():\n",
    "    print(\"This is my first function\")"
   ]
  },
  {
   "cell_type": "markdown",
   "metadata": {},
   "source": [
    "#### Calling a Function\n",
    "\n",
    "To call a function, use the function name followed by parenthesis\n",
    "\n"
   ]
  },
  {
   "cell_type": "code",
   "execution_count": 2,
   "metadata": {},
   "outputs": [
    {
     "name": "stdout",
     "output_type": "stream",
     "text": [
      "This is my first function\n"
     ]
    }
   ],
   "source": [
    "# example\n",
    "\n",
    "my_function() # returns the data of the function `my_function`"
   ]
  },
  {
   "cell_type": "markdown",
   "metadata": {},
   "source": [
    "#### Arguments (args) or Parameter\n",
    "\n",
    "An argument/parameter is information passed into functions.\n",
    "\n",
    "Arguments are specified after the function name, inside the parentheses. You can add as many arguments as you want, just separate them with a comma. Example: `my_function(name)`\n",
    "\n",
    " > **Note:** Even though argumnets and parameter mean the same thing, from a function's perspective:\n",
    " * A parameter is the variable listed inside the parentheses in the function definition. *example:* `def my_function(name):`\n",
    " * An argument is the value that is sent to the function when it is called.*example:* `my_function(name)`\n"
   ]
  },
  {
   "cell_type": "code",
   "execution_count": 4,
   "metadata": {},
   "outputs": [
    {
     "name": "stdout",
     "output_type": "stream",
     "text": [
      "John is on the path to becoming a Pythonista\n"
     ]
    }
   ],
   "source": [
    "# Example\n",
    "\n",
    "def my_goal(name):\n",
    "    print(name + ' is on the path to becoming a Pythonista')\n",
    "    \n",
    "my_goal('John')\n",
    "\n",
    "#The above example has a function with one argument (name). When the function is called, \n",
    "# we pass along a name, which is used inside the function to print the statement"
   ]
  },
  {
   "cell_type": "markdown",
   "metadata": {},
   "source": [
    "#### What number of Arguments should you pass in a function?\n",
    "\n",
    "A function **must** be called with the correct number of arguments that was used in defining it. Meaning that if your function expects 2 arguments, you have to call the function with 2 arguments, not more, and not less."
   ]
  },
  {
   "cell_type": "code",
   "execution_count": 7,
   "metadata": {},
   "outputs": [
    {
     "name": "stdout",
     "output_type": "stream",
     "text": [
      "Mark has not yet gone to Nairobi\n"
     ]
    }
   ],
   "source": [
    "# Example\n",
    "\n",
    "def my_function(name, city):\n",
    "    print(name + \" has not yet gone to \" + city)\n",
    "\n",
    "my_function(\"Mark\", 'Nairobi')\n",
    "\n",
    "# Test: Try passing 1 or 3 argument into the function call"
   ]
  },
  {
   "cell_type": "markdown",
   "metadata": {},
   "source": [
    "#### Arbitrary Arguments, *args\n",
    "\n",
    "Arbitrary Arguments (*args) is used as a parameter if you do not know how many arguments that will be passed into your function. Put one asterisk * before the parameter name to make it a arbitrary argument.\n",
    "\n",
    "This way the function will receive a tuple of arguments and can access the items accordingly.\n"
   ]
  },
  {
   "cell_type": "code",
   "execution_count": 10,
   "metadata": {},
   "outputs": [
    {
     "name": "stdout",
     "output_type": "stream",
     "text": [
      "I am talented in football\n"
     ]
    }
   ],
   "source": [
    "# Example\n",
    "\n",
    "def my_function(*args):\n",
    "    print(\"I am talented in \" + args[0]) #return only the \n",
    "\n",
    "my_function(\"football\", \"swimming\", \"writing\", \"running\")"
   ]
  },
  {
   "cell_type": "markdown",
   "metadata": {},
   "source": [
    "### Keyword Arguments\n",
    "\n",
    "Python functions can also send arguments with the (`key = value`) syntax.\n",
    "\n",
    "With this method,the order of the arguments does not matter."
   ]
  },
  {
   "cell_type": "code",
   "execution_count": 14,
   "metadata": {},
   "outputs": [
    {
     "name": "stdout",
     "output_type": "stream",
     "text": [
      "Amina's surname is Muhammed\n"
     ]
    }
   ],
   "source": [
    "# Example\n",
    "\n",
    "def my_name_function(fname, mname, lname):\n",
    "    print(fname +\"'s\"+\" surname is \" + lname)\n",
    "\n",
    "my_name_function(fname = \"Amina\", mname = \"Zawadi\", lname = \"Muhammed\")"
   ]
  },
  {
   "cell_type": "markdown",
   "metadata": {},
   "source": [
    "### Arbitrary Keyword Arguments, **kwargs\n",
    "\n",
    "If you do not know how many keyword arguments that will be passed into your function, add two asterisk: ** before the parameter name in the function definition.\n",
    "\n",
    "This allows the function to receive a **dictionary** of arguments, and can access the items accordingly.\n",
    "\n",
    "Arbitrary keyword arguments are also commonly called **kwargs"
   ]
  },
  {
   "cell_type": "code",
   "execution_count": 20,
   "metadata": {},
   "outputs": [
    {
     "name": "stdout",
     "output_type": "stream",
     "text": [
      "My surname is Muhammed\n"
     ]
    }
   ],
   "source": [
    "# Example\n",
    "\n",
    "def my_name_function(**name):\n",
    "    print(\"My surname is \" + name['lname'])\n",
    "\n",
    "my_name_function(fname = \"Amina\", mname = \"Zawadi\", lname = \"Muhammed\")"
   ]
  },
  {
   "cell_type": "markdown",
   "metadata": {},
   "source": [
    "### Creating a Default Parameter Value\n",
    "\n",
    "The following example shows how to use a default parameter value.\n",
    "\n",
    "A default parameter value is the default value of a fuction's parameter. If we call the function without argument, it uses the default parameter value."
   ]
  },
  {
   "cell_type": "code",
   "execution_count": 22,
   "metadata": {},
   "outputs": [
    {
     "name": "stdout",
     "output_type": "stream",
     "text": [
      "My job is a Data Scientist\n",
      "My job is a Doctor\n",
      "My job is a hustler\n"
     ]
    }
   ],
   "source": [
    "# Example\n",
    "\n",
    "def my_career_function( career= \"hustler\"):\n",
    "    print(\"My job is a \" + career)\n",
    "\n",
    "my_career_function(\"Data Scientist\")\n",
    "my_career_function(\"Doctor\")\n",
    "my_career_function() # since we pass no arguments on this function call it returns the default parameter value\n"
   ]
  },
  {
   "cell_type": "markdown",
   "metadata": {},
   "source": [
    "### Passing a List as an Argument\n",
    "\n",
    "It is important to note that you can send any data types of argument to a function (string, number, list, dictionary etc.), and it will be treated as the same data type inside the function.\n",
    "\n",
    "For example if you send a List as an argument, it will still be a List when it reaches the function."
   ]
  },
  {
   "cell_type": "code",
   "execution_count": 24,
   "metadata": {},
   "outputs": [
    {
     "name": "stdout",
     "output_type": "stream",
     "text": [
      "Mercedes\n",
      "Toyota\n",
      "Tesla\n"
     ]
    }
   ],
   "source": [
    "# example\n",
    "\n",
    "# the function below loops through the parameter provided. In this case \"cars list\"\n",
    "\n",
    "def my_function(cars): \n",
    "    for x in cars:\n",
    "        print(x)\n",
    "\n",
    "models = [\"Mercedes\", \"Toyota\", \"Tesla\"]\n",
    "\n",
    "my_function(models)"
   ]
  },
  {
   "cell_type": "markdown",
   "metadata": {},
   "source": [
    "### Returning Values in a function\n",
    "\n",
    "If you want a function to return a value, use the `return` statement."
   ]
  },
  {
   "cell_type": "code",
   "execution_count": 26,
   "metadata": {},
   "outputs": [
    {
     "name": "stdout",
     "output_type": "stream",
     "text": [
      "9\n",
      "25\n",
      "81\n"
     ]
    }
   ],
   "source": [
    "# Example\n",
    "\n",
    "# Write a function that returns the square of a number\n",
    "\n",
    "def square_number_function(x):\n",
    "    return x ** 2\n",
    "\n",
    "print(square_number_function(3))\n",
    "print(square_number_function(5))\n",
    "print(square_number_function(9))"
   ]
  },
  {
   "cell_type": "markdown",
   "metadata": {},
   "source": [
    "### Using The pass Statement\n",
    "\n",
    "Python function definitions cannot be empty, but if you for some reason have a function definition with no content, use the ` pass `statement to avoid getting an error.\n"
   ]
  },
  {
   "cell_type": "code",
   "execution_count": 30,
   "metadata": {},
   "outputs": [],
   "source": [
    "# Example\n",
    "\n",
    "def myfunction():\n",
    "    pass          #try commenting this out and see the error you get"
   ]
  },
  {
   "cell_type": "markdown",
   "metadata": {},
   "source": [
    "Recursion\n",
    "Python also accepts function recursion, which means a defined function can call itself.\n",
    "\n",
    "Recursion is a common mathematical and programming concept. It means that a function calls itself. This has the benefit of meaning that you can loop through data to reach a result.\n",
    "\n",
    "The developer should be very careful with recursion as it can be quite easy to slip into writing a function which never terminates, or one that uses excess amounts of memory or processor power. However, when written correctly recursion can be a very efficient and mathematically-elegant approach to programming.\n",
    "\n",
    "In this example, tri_recursion() is a function that we have defined to call itself (\"recurse\"). We use the k variable as the data, which decrements (-1) every time we recurse. The recursion ends when the condition is not greater than 0 (i.e. when it is 0).\n",
    "\n",
    "To a new developer it can take some time to work out how exactly this works, best way to find out is by testing and modifying it."
   ]
  },
  {
   "cell_type": "code",
   "execution_count": null,
   "metadata": {},
   "outputs": [],
   "source": []
  }
 ],
 "metadata": {
  "kernelspec": {
   "display_name": "Python 3",
   "language": "python",
   "name": "python3"
  },
  "language_info": {
   "codemirror_mode": {
    "name": "ipython",
    "version": 3
   },
   "file_extension": ".py",
   "mimetype": "text/x-python",
   "name": "python",
   "nbconvert_exporter": "python",
   "pygments_lexer": "ipython3",
   "version": "3.7.4"
  }
 },
 "nbformat": 4,
 "nbformat_minor": 2
}
