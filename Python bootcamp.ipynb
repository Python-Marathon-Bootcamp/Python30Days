{
 "cells": [
  {
   "cell_type": "markdown",
   "metadata": {},
   "source": [
    " # Python Marathon Bootcamp"
   ]
  },
  {
   "cell_type": "markdown",
   "metadata": {},
   "source": [
    "### Print Statement\n",
    "\n",
    "#### Function of print function include:\n",
    "1. Used for displaying code results\n",
    "2. Used for Debugging and testing for code functionality\n",
    "It's a norm in the programming world that every first line of code starts with hello world"
   ]
  },
  {
   "cell_type": "code",
   "execution_count": 1,
   "metadata": {},
   "outputs": [
    {
     "name": "stdout",
     "output_type": "stream",
     "text": [
      "hello world\n"
     ]
    }
   ],
   "source": [
    "# So our first line of code today will be \n",
    "print(\"hello world\" )"
   ]
  },
  {
   "cell_type": "markdown",
   "metadata": {},
   "source": [
    "#### Printing Multiple Pieces of Data:\n",
    "\n",
    "We can even print multiple things in a single print command; we just have to separate them using commas. "
   ]
  },
  {
   "cell_type": "code",
   "execution_count": 2,
   "metadata": {},
   "outputs": [
    {
     "name": "stdout",
     "output_type": "stream",
     "text": [
      "a  b  c\n",
      "2 5.14 Python \n"
     ]
    }
   ],
   "source": [
    "print('a' ,' b' ,' c' )\n",
    "print(2, 5.14,\"Python \")"
   ]
  },
  {
   "cell_type": "markdown",
   "metadata": {},
   "source": [
    "### Comments\n",
    "1. Comments can be used to explain what a Python code does.\n",
    "\n",
    "2. Comments can be used to make the code more readable.\n",
    "\n",
    "3. Comments can be used to prevent execution when testing code.\n",
    "\n",
    "Let's look at examples below:\n",
    "\n",
    "**Note:**\n",
    ">There are two types of comments :\n",
    "    \n",
    "1. `# `- used to comment before a code statement or a code explanation\n",
    "\n",
    "  Example:\n",
    "  `print(\"Hello, World!\")`\n",
    "  \n",
    "   `print(\"Welcome, to Python class\") #This is just a comment`\n",
    "   \n",
    "The first statement prints nothing while the second line prints: `Welcome, to Python class`\n",
    "\n",
    "2. ''' ''' - used to comment large sentences like a documentation on what code/script/function does\n",
    " "
   ]
  },
  {
   "cell_type": "code",
   "execution_count": 3,
   "metadata": {},
   "outputs": [
    {
     "data": {
      "text/plain": [
       "'1. Comments can be used to explain what a Python code does.\\n\\n2. Comments can be used to make the code more readable.(as we move ahead, I will give you an alternative for cleaner code)\\n\\n3.Comments can be used to prevent execution when testing code. \\n'"
      ]
     },
     "execution_count": 3,
     "metadata": {},
     "output_type": "execute_result"
    }
   ],
   "source": [
    "# Example\n",
    "'''1. Comments can be used to explain what a Python code does.\n",
    "\n",
    "2. Comments can be used to make the code more readable.(as we move ahead, I will give you an alternative for cleaner code)\n",
    "\n",
    "3.Comments can be used to prevent execution when testing code. \n",
    "'''"
   ]
  },
  {
   "cell_type": "markdown",
   "metadata": {},
   "source": [
    "### Variables\n",
    "\n",
    "Variables are simply containers for storing data values.\n",
    "\n",
    "The reason why Python is considered a beginner friendly language is because of this fact:\n",
    "\n",
    "Python has no variable declaration like it's predicessors like C, C++ Java etc\n",
    "\n",
    "A variable is created by assignning a value to it."
   ]
  },
  {
   "cell_type": "code",
   "execution_count": 4,
   "metadata": {},
   "outputs": [
    {
     "ename": "NameError",
     "evalue": "name 'b' is not defined",
     "output_type": "error",
     "traceback": [
      "\u001b[1;31m---------------------------------------------------------------------------\u001b[0m",
      "\u001b[1;31mNameError\u001b[0m                                 Traceback (most recent call last)",
      "\u001b[1;32m<ipython-input-4-916ce11205ef>\u001b[0m in \u001b[0;36m<module>\u001b[1;34m\u001b[0m\n\u001b[0;32m      4\u001b[0m \u001b[0mz\u001b[0m \u001b[1;33m=\u001b[0m \u001b[1;34m\"Love learning new things\"\u001b[0m\u001b[1;33m\u001b[0m\u001b[1;33m\u001b[0m\u001b[0m\n\u001b[0;32m      5\u001b[0m \u001b[1;33m\u001b[0m\u001b[0m\n\u001b[1;32m----> 6\u001b[1;33m \u001b[0mprint\u001b[0m\u001b[1;33m(\u001b[0m\u001b[0ma\u001b[0m\u001b[1;33m,\u001b[0m \u001b[0mb\u001b[0m\u001b[1;33m)\u001b[0m \u001b[1;31m# see the results\u001b[0m\u001b[1;33m\u001b[0m\u001b[1;33m\u001b[0m\u001b[0m\n\u001b[0m",
      "\u001b[1;31mNameError\u001b[0m: name 'b' is not defined"
     ]
    }
   ],
   "source": [
    "# Example\n",
    "\n",
    "a =50\n",
    "z = \"Love learning new things\"\n",
    "\n",
    "print(a, b) # see the results"
   ]
  },
  {
   "cell_type": "markdown",
   "metadata": {},
   "source": [
    "Python variables are case sensitive. A is different from variable a\n",
    "\n",
    "e.g"
   ]
  },
  {
   "cell_type": "code",
   "execution_count": null,
   "metadata": {},
   "outputs": [],
   "source": [
    "A = 50\n",
    "a = 50\n",
    "# These are two different things\n"
   ]
  },
  {
   "cell_type": "markdown",
   "metadata": {},
   "source": [
    "### Data Types\n",
    "\n",
    "Python has the following built-in data types :\n",
    "\n",
    "**Text Type :-**` str ('Peter')`\n",
    "\n",
    "**Numeric Types:-** `int-(4)`, `float-(5.4)`, `complex-(3a)`\n",
    "\n",
    " **Sequence Types :-** *list*-`[\"pen\", \"book\", \"pencil\"]`, *tuple*- `(\"pen\", \"book\", \"pencil\")`, *range* e.g `range(10)`\n",
    " \n",
    " **Mapping Type :-** dict e.g `{\"pen\":10, \"book\":200, \"pencil\":15}`\n",
    " \n",
    " **Set Types :-** set -e.g `{\"pen\", \"book\", \"pencil\"}`, `frozenset`\n",
    " \n",
    " **Boolean Type :-** bool (True or False)\n",
    " \n",
    " **Binary Types :-** bytes e.g `(b\"Hello\")` etc"
   ]
  },
  {
   "cell_type": "markdown",
   "metadata": {},
   "source": [
    "###  1. Text Type  -  Strings (str)\n",
    "\n",
    "In Python, a string is a an alphabet or sentence that is surounded by single or double quotes\n",
    "\n",
    "`'hello world'` is the same as `\"hello world\"`.\n",
    "\n",
    "Try it yourself by the use of `print` function.\n",
    "\n",
    "#### Multiline strings \n",
    "\n",
    "These are used when writing a long sentence or paragraph\n",
    "\n",
    "You can use `\"\"\" \"\"\"` or `''' '''` \n",
    "\n"
   ]
  },
  {
   "cell_type": "code",
   "execution_count": null,
   "metadata": {},
   "outputs": [],
   "source": [
    "# Example\n",
    "# Assign the string to variable a\n",
    "\n",
    "a ='''The Zen of Python, by Tim Peters\n",
    "\n",
    "Beautiful is better than ugly.\n",
    "Explicit is better than implicit.\n",
    "Simple is better than complex.\n",
    "Complex is better than complicated.'''\n",
    "print(a)"
   ]
  },
  {
   "cell_type": "markdown",
   "metadata": {},
   "source": [
    "### Finding the length and position of a string\n",
    "\n",
    "Since strings in Python are like arrays, we can access each individual character in a string by its index.\n",
    "\n",
    "We can also know the total number of characters in a string by using `len()` function."
   ]
  },
  {
   "cell_type": "code",
   "execution_count": null,
   "metadata": {},
   "outputs": [],
   "source": [
    "# Example\n",
    "\n",
    "#Length of a string\n",
    "zen = \"Simple is better than complex\"\n",
    "print(len(zen))\n",
    "\n",
    "#Accessing the word \"better\" from zen\n",
    "print(zen[10:16]) #start counting from index 0 which is S\n",
    "\n",
    "#Accessing the word \"better\" from zen using -ve indexes\n",
    "print(zen[-19:-13]) # start counting from left to right i.e from 'x' to 'S'. Start with 'x' as -1\n",
    "\n",
    "#Access character 'S' from zen\n",
    "print(zen[0])"
   ]
  },
  {
   "cell_type": "markdown",
   "metadata": {},
   "source": [
    "### Brain challenge 1"
   ]
  },
  {
   "cell_type": "code",
   "execution_count": null,
   "metadata": {},
   "outputs": [],
   "source": [
    "#Assign the value \"Machine Learning is the future\" to variable name 'future' and print out the length of the string,\n",
    "# and the word \"Learning\" by using a +ve and a -ve index to slice the string.\n",
    "\n",
    "#=================================YOUR CODE GOES HERE===========================================================\n",
    "\n",
    "\n",
    "\n",
    "\n",
    "\n",
    "\n",
    "\n",
    "\n",
    "#==============================================================================================================="
   ]
  },
  {
   "cell_type": "markdown",
   "metadata": {},
   "source": [
    "### Other Important String Methods"
   ]
  },
  {
   "cell_type": "code",
   "execution_count": null,
   "metadata": {},
   "outputs": [],
   "source": [
    "# a) upper() - used for converting strings to uppercase\n",
    "#Example\n",
    "student = \"Pythoneer\"\n",
    "print(student.upper())\n",
    "\n",
    "# b) lower() -used for converting strings to lowercase\n",
    "print(student.lower())\n",
    "\n",
    "# c) count() - used for counting the number of times a string or character appears in another string \n",
    "print(student.count('e')) # Make sure to provide an argument to the function. Here we want to know the number of times 'e'\n",
    "#appears in student variable.\n",
    "\n",
    "# d) find() - used to find the index of a specific character in a string\n",
    "print(student.find('o'))\n",
    "\n",
    "# e) replace() - used to replace a string with a different string\n",
    "print(student.replace('eer','nista')) # here we are replacing 'eer' with 'nista'\n",
    "\n"
   ]
  },
  {
   "cell_type": "markdown",
   "metadata": {},
   "source": [
    "### String Concatination\n",
    "\n",
    "This is the process of joining two strings together.\n",
    "\n",
    "String concatination has the following approaches\n"
   ]
  },
  {
   "cell_type": "code",
   "execution_count": null,
   "metadata": {},
   "outputs": [],
   "source": [
    "# 1. We can use operator `+`or `,`\n",
    "send = \"Mastery comes with consistency\"\n",
    "receive =\"Masters never stop learning\"\n",
    "\n",
    "message = send +' '+ receive\n",
    "print(message)\n",
    "#or\n",
    "\n",
    "print(send,'',receive)\n",
    "\n",
    "# 2. Using f' string\n",
    "print(f'{send},{receive}, we all start from somewhere')\n",
    "\n",
    "# 3. Using format\n",
    "print('{},{},we all start from somewhere'.format(send,receive)) # This method was replaced with f'' strings."
   ]
  },
  {
   "cell_type": "markdown",
   "metadata": {},
   "source": [
    "### 2. Numeric types (Integers, Floats & Complex)\n",
    "\n",
    "An integer is a whole number either positive or negative.\n",
    "\n",
    "A float is a number, positive or negative, with one or more decimals.\n",
    "\n",
    "Complex numbers are written with a \"j\" as the imaginary part.\n"
   ]
  },
  {
   "cell_type": "code",
   "execution_count": null,
   "metadata": {},
   "outputs": [],
   "source": [
    "# Example\n",
    "\n",
    "# Integer\n",
    "p = 5\n",
    "\n",
    "# float\n",
    "q =5.5\n",
    "\n",
    "#complex\n",
    "r = 3j\n",
    "# Use `type()`function to verify the variable type.\n",
    "# `type()` is an inbuilt python function that returns the datatype of a variable.\n",
    "print(type(p))\n",
    "print(type(q))\n",
    "print(type(r))"
   ]
  },
  {
   "cell_type": "markdown",
   "metadata": {},
   "source": [
    "### Type Conversion\n",
    "\n",
    "You can convert from one type to another with the `int()`, `float()`, and `complex()` methods.\n",
    "\n",
    "> **Note:** You cannot convert complex numbers into another number type."
   ]
  },
  {
   "cell_type": "code",
   "execution_count": null,
   "metadata": {},
   "outputs": [],
   "source": [
    "x = 10    # int\n",
    "y = 3.5  # float\n",
    "z = 7j   # complex\n",
    "\n",
    "#convert from int to float:\n",
    "a = float(x)\n",
    "\n",
    "#convert from float to int:\n",
    "b = int(y)\n",
    "\n",
    "#convert from int to complex:\n",
    "c = complex(x)\n",
    "\n",
    "print(a)\n",
    "print(b)\n",
    "print(c)"
   ]
  },
  {
   "cell_type": "markdown",
   "metadata": {},
   "source": [
    "#### Random Numbers\n",
    "\n",
    "Python has a built-in module called random that can be used to create random numbers."
   ]
  },
  {
   "cell_type": "code",
   "execution_count": null,
   "metadata": {},
   "outputs": [],
   "source": [
    "# Example\n",
    "\n",
    "import random # inorder to use random module, we first need to import it\n",
    "\n",
    "# randomly prints numbers between 1 and 10\n",
    "print(random.randint(1,10)) \n",
    "\n",
    "#or\n",
    "\n",
    "print(random.randrange(1,10))"
   ]
  },
  {
   "cell_type": "markdown",
   "metadata": {},
   "source": [
    "### Boolean Type\n",
    "\n",
    "Booleans represent one of two values: `True` or `False`.\n",
    "\n",
    "Booleans are used to compare two values."
   ]
  },
  {
   "cell_type": "code",
   "execution_count": null,
   "metadata": {},
   "outputs": [],
   "source": [
    "# Example\n",
    "\n",
    "print(10<34)\n",
    "print(10 == 34)\n",
    "print(10>34)\n",
    "\n",
    "# When you run a condition in an if statement, Python returns True or False"
   ]
  },
  {
   "cell_type": "code",
   "execution_count": null,
   "metadata": {},
   "outputs": [],
   "source": [
    "'''Python also has many built-in functions that return a boolean value, like the isinstance() function, \n",
    " which can be used to determine if an object is of a certain data type'''\n",
    "\n",
    "# Example\n",
    "c = 30\n",
    "print(isinstance(c, int))"
   ]
  },
  {
   "cell_type": "markdown",
   "metadata": {},
   "source": [
    "> **Note:**\n",
    "\n",
    "* Almost any value is evaluated to True if it has content.\n",
    "\n",
    "* All string are True, except empty strings.\n",
    "\n",
    "* All number is True, except 0.\n",
    "\n",
    "* All lists, tuples, sets, and dictionaries are True, except empty ones."
   ]
  },
  {
   "cell_type": "code",
   "execution_count": null,
   "metadata": {},
   "outputs": [],
   "source": [
    "# Example\n",
    "\n",
    "a = \"hello\"\n",
    "b = 5\n",
    "c = \"\" # empty string\n",
    "print(bool(a))\n",
    "print(bool(b))\n",
    "print(bool(c))"
   ]
  },
  {
   "cell_type": "markdown",
   "metadata": {},
   "source": [
    "### Operators\n",
    "\n",
    "Operators are used to perform operations on variables and values.\n",
    "\n",
    "In our last lesson (*string concatenation*), we used the `+ `operator to add two strings together.\n",
    "`print(\"hello\"+\"world\")`\n",
    "\n",
    "* Arithmetic operators\n",
    "\n",
    "* Logical operators\n",
    "\n",
    "* Assignment operators\n",
    "\n",
    "* Comparison operators\n",
    "\n",
    "* Identity operators\n",
    "\n",
    "* Membership operators\n",
    "\n",
    "* Bitwise operators"
   ]
  },
  {
   "cell_type": "markdown",
   "metadata": {},
   "source": [
    "\n",
    "### a) Arithmetic Operators \n",
    "\n",
    "Used to perform arithmetic operations.\n",
    "\n",
    "**Examples**\n",
    "\n",
    "1. Addition        +\n",
    "2. Subtraction     -\n",
    "3. Multiplication  *\n",
    "4. Division        /\n",
    "5. Floor Division  //   This truncates the decimal point of the result of a division operation\n",
    "6. Exponent        **\n",
    "7. Modulus         %    This returns the remainder of a divison operation\n"
   ]
  },
  {
   "cell_type": "code",
   "execution_count": null,
   "metadata": {},
   "outputs": [],
   "source": []
  },
  {
   "cell_type": "code",
   "execution_count": null,
   "metadata": {},
   "outputs": [],
   "source": [
    "# Examples\n",
    "\n",
    "x= 10\n",
    "y =5\n",
    "\n",
    "#Addition +\n",
    "print(x+y)\n",
    "\n",
    "#Subtraction -\n",
    "print(x-y)\n",
    "\n",
    "#Multiplication *\n",
    "print(x*y)\n",
    "\n",
    "#Division /\n",
    "print(x/y)\n",
    "\n",
    "#Floor Division // \n",
    "print(x//y)\n",
    "\n",
    "#Exponent **\n",
    "print(x**y)\n",
    "      \n",
    "#Modulus %\n",
    "print(x % y)"
   ]
  },
  {
   "cell_type": "code",
   "execution_count": null,
   "metadata": {},
   "outputs": [],
   "source": []
  },
  {
   "cell_type": "markdown",
   "metadata": {},
   "source": [
    "### b) Assignment Operators\n",
    "\n",
    "Assignment operators are used to assign values to variables.\n",
    "\n",
    "* =\t\t\n",
    "* +=\t\t\n",
    "* -=\t\t\n",
    "* *=\t\n",
    "* /=\t\n",
    "* %=\t\t\n",
    "* //=\t\t\n",
    "* **=\t\t\n",
    "* &=\t \n",
    "* |=\t\t\n",
    "* ^=\t\t\n",
    "* >>=\t\t\n",
    "* <<=\t\n"
   ]
  },
  {
   "cell_type": "code",
   "execution_count": null,
   "metadata": {},
   "outputs": [],
   "source": [
    "# = Equal\n",
    "x = 5   # same as x = 5\n",
    "print(x)\n",
    "# += Addition\n",
    "x += 3 # same as x = x + 3\n",
    "print(x)\n",
    "\n",
    "# -= \n",
    "x -= 3 # same as x = x - 3\n",
    "print(x)\n",
    "\n",
    "# *=\n",
    "x *= 3 # same as x = x * 3\n",
    "print(x)\n",
    "\n",
    "# /=\n",
    "x /= 3 # same as x = x / 3\n",
    "print(x)\n",
    "\n",
    "# %=\n",
    "x %= 3 # same as x = x % 3\n",
    "print(x)\n",
    "\n",
    "# //=\n",
    "x //= 3 # same as x = x // 3\n",
    "print(x)\n",
    "\n",
    "# **=\n",
    "x **= 3 # same as x = x ** 3\n",
    "print(x)\n",
    "\n",
    "# &=\n",
    "x &= 3 # same as x = x & 3\n",
    "print(x)\n",
    "\n",
    "# |=\n",
    "x |= 3 # same as x = x | 3\n",
    "print(x)\n",
    "\n",
    "# ^=\n",
    "x ^= 3 # same as x = x ^ 3\n",
    "print(x)\n",
    "\n",
    "# >>=\n",
    "x >>= 3 # same as x = x >> 3\n",
    "print(x)\n",
    "\n",
    "# <<=\n",
    "x <<= 3 # same as x = x << 3\n",
    "print(x)\n",
    "\n",
    "# Assignment operators are used for assigning values to variables\n"
   ]
  },
  {
   "cell_type": "markdown",
   "metadata": {},
   "source": [
    "### c) Comparison Operators\n",
    "\n",
    "Comparison operators are used to compare two values.\n",
    "\n",
    "* Equal\n",
    "==\t\n",
    "\n",
    "* Not equal\n",
    "!=\t\n",
    "\n",
    "* Greater than\n",
    ">\t\t\t\n",
    "\n",
    "* Less than\n",
    "<\t\t\t\n",
    "\n",
    "* Greater than or equal to\n",
    ">=\t\t\n",
    "\n",
    "* Less than or equal to\n",
    "<=\t\t"
   ]
  },
  {
   "cell_type": "code",
   "execution_count": 13,
   "metadata": {},
   "outputs": [
    {
     "name": "stdout",
     "output_type": "stream",
     "text": [
      "False\n",
      "True\n",
      "True\n",
      "False\n",
      "True\n",
      "False\n"
     ]
    }
   ],
   "source": [
    "# Example\n",
    "x =50\n",
    "y =10\n",
    "\n",
    "# Equal\n",
    "print(x == y)\n",
    "\n",
    "# Not Equal\n",
    "print(x != y)\n",
    "\n",
    "# Greater than\n",
    "print(x > y)\n",
    "\n",
    "# Less than\n",
    "print(x < y)\n",
    "\n",
    "# Greater than or equal to\n",
    "print(x >=y)\n",
    "\n",
    "# Less than or equal to\n",
    "print(x <= y)"
   ]
  },
  {
   "cell_type": "markdown",
   "metadata": {},
   "source": [
    "### d) Logical Operators\n",
    "\n",
    "Logical operators are used to combine conditional statements:\n",
    "\n",
    "\n",
    "* and -->\tReturns True if both statements are true\t\t\n",
    "* or -->\tReturns True if one of the statements is true\t\n",
    "* not -->\tReturns False if the result is true. It reverses the results."
   ]
  },
  {
   "cell_type": "code",
   "execution_count": 15,
   "metadata": {},
   "outputs": [
    {
     "name": "stdout",
     "output_type": "stream",
     "text": [
      "True\n",
      "True\n",
      "False\n"
     ]
    }
   ],
   "source": [
    "# Example\n",
    "\n",
    "x=2\n",
    "# and\n",
    "print(x < 5 and  x < 10)\n",
    "\n",
    "# or\n",
    "print(x < 5 or x < 4)\n",
    "\n",
    "# not\n",
    "print(not(x < 5 and x < 10))\n",
    "\n"
   ]
  },
  {
   "cell_type": "markdown",
   "metadata": {},
   "source": [
    "### e) Identity Operators\n",
    "\n",
    "Identity operators are used to compare the objects if they are actually the same object, with the same memory location.(i.e like verifying objects)\n",
    "\n",
    "\n",
    "* is -->\tReturns True if both variables are the same object\t\t\n",
    "* is not ->\tReturns True if both variables are not the same object\t"
   ]
  },
  {
   "cell_type": "code",
   "execution_count": 16,
   "metadata": {},
   "outputs": [
    {
     "name": "stdout",
     "output_type": "stream",
     "text": [
      "True\n",
      "False\n"
     ]
    }
   ],
   "source": [
    "# Examples\n",
    "\n",
    "x =4\n",
    "y =x\n",
    "\n",
    "# is\n",
    "print(x is y)\n",
    "\n",
    "# is not\n",
    "print(x is not y)"
   ]
  },
  {
   "cell_type": "markdown",
   "metadata": {},
   "source": [
    "### f) Membership Operators\n",
    "\n",
    "Membership operators are used to check if a character/sequence is presented in an object.\n",
    "\n",
    "* in -->\tReturns True if a character/sequence with the specified value is present in the object\t\n",
    "* not in ->\tReturns True if a character/sequence with the specified value is not present in the object\t"
   ]
  },
  {
   "cell_type": "code",
   "execution_count": 33,
   "metadata": {},
   "outputs": [
    {
     "name": "stdout",
     "output_type": "stream",
     "text": [
      "True\n",
      "False\n"
     ]
    }
   ],
   "source": [
    "# Examples\n",
    "y = \"learning\" \n",
    "\n",
    "# in\n",
    "print('earning' in y)\n",
    "\n",
    "# not in\n",
    "print('earning' not in y)"
   ]
  },
  {
   "cell_type": "markdown",
   "metadata": {},
   "source": [
    "## Brain Challenge 2"
   ]
  },
  {
   "cell_type": "code",
   "execution_count": null,
   "metadata": {},
   "outputs": [],
   "source": [
    "# Calculate the areas and perimeters of a triangle, rectangle, square, trapezium and rhombus\n",
    "\n",
    "#=================================YOUR CODE GOES HERE===========================================================\n",
    "\n",
    "\n",
    "\n",
    "\n",
    "\n",
    "\n",
    "\n",
    "\n",
    "#==============================================================================================================="
   ]
  },
  {
   "cell_type": "markdown",
   "metadata": {},
   "source": [
    "### 3. Python Data Structures\n",
    "\n",
    "There are 4 built-in data structure types in Python used to store collections of data namely:\n",
    "\n",
    "* Lists\n",
    "* Tuples \n",
    "* Sets\n",
    "* Dictionaries\n",
    "\n",
    "All these types have different qualities and usage."
   ]
  },
  {
   "cell_type": "markdown",
   "metadata": {},
   "source": [
    "### 3.1 List\n",
    "\n",
    "Lists are used to store multiple items in a single variable.\n",
    "\n",
    "Lists are created using square brackets. i.e [ ]\n",
    "\n",
    "List items are:\n",
    "\n",
    "* ordered - means that the items have a defined order and that order will not change. List follows the first come first serve law.\n",
    "\n",
    "* changeable - means that we can change, add, and remove items in a list after it has been created.\n",
    "\n",
    "* allow duplicate values - means list can have same values.This is because it uses indexing.\n",
    "\n",
    "List items are indexed, the first item has index [0], the second item has index [1] etc.\n",
    "\n"
   ]
  },
  {
   "cell_type": "code",
   "execution_count": 22,
   "metadata": {},
   "outputs": [
    {
     "name": "stdout",
     "output_type": "stream",
     "text": [
      "['lenovo', 'hp', 'dell', 'chrome', 'macintosh', 'samsung']\n"
     ]
    }
   ],
   "source": [
    "# Example\n",
    "\n",
    "laptop_lists = ['lenovo', 'hp','dell','chrome','macintosh', 'samsung']\n",
    "print(laptop_lists)"
   ]
  },
  {
   "cell_type": "code",
   "execution_count": 23,
   "metadata": {},
   "outputs": [
    {
     "name": "stdout",
     "output_type": "stream",
     "text": [
      "6\n"
     ]
    }
   ],
   "source": [
    "# Checking the Length of a list using len() method\n",
    "\n",
    "print(len(laptop_lists))"
   ]
  },
  {
   "cell_type": "code",
   "execution_count": 28,
   "metadata": {},
   "outputs": [
    {
     "name": "stdout",
     "output_type": "stream",
     "text": [
      "<class 'list'>\n",
      "<class 'list'>\n",
      "<class 'list'>\n"
     ]
    }
   ],
   "source": [
    "#  Checking List Items Data Types using type() \n",
    "laptop_list = ['lenovo', 'hp','dell','chrome','macintosh', 'samsung']\n",
    "number_list= [1,2,3,4,5,6]\n",
    "bool_list =  [True, False, True]\n",
    "\n",
    "print(type(laptop_list))\n",
    "print(type(number_list))\n",
    "print(type(bool_list))\n",
    "\n",
    "# What values are stored in a list doesn't affect its data type which is <class 'list'>"
   ]
  },
  {
   "cell_type": "code",
   "execution_count": 27,
   "metadata": {},
   "outputs": [
    {
     "name": "stdout",
     "output_type": "stream",
     "text": [
      "['lenovo', 'hp', 1, 2, True, False]\n"
     ]
    }
   ],
   "source": [
    "# A list can contain different data types\n",
    "\n",
    "# Example\n",
    "mix_list =['lenovo', 'hp',1,2,True, False]\n",
    "print(mix_list)"
   ]
  },
  {
   "cell_type": "markdown",
   "metadata": {},
   "source": [
    "#### The list() Constructor\n",
    "\n",
    "It is also possible to use the list() constructor to create a new list."
   ]
  },
  {
   "cell_type": "code",
   "execution_count": 29,
   "metadata": {},
   "outputs": [
    {
     "name": "stdout",
     "output_type": "stream",
     "text": [
      "[1, 2, 3, 4, 5, 6, 7, 8, 9, 10]\n"
     ]
    }
   ],
   "source": [
    "# Example\n",
    "\n",
    "topten = list((1,2,3,4,5,6,7,8,9,10))\n",
    "print(topten)\n",
    "               "
   ]
  },
  {
   "cell_type": "markdown",
   "metadata": {},
   "source": [
    "#### Accessing Items from a list\n",
    "\n",
    "Since lists items are indexed, we will be accessing each item by its index."
   ]
  },
  {
   "cell_type": "code",
   "execution_count": 30,
   "metadata": {},
   "outputs": [
    {
     "name": "stdout",
     "output_type": "stream",
     "text": [
      "hp\n"
     ]
    }
   ],
   "source": [
    "# Example\n",
    "\n",
    "laptop_list = ['lenovo', 'hp','dell','chrome','macintosh', 'samsung']\n",
    "print(laptop_list[1]) # we shall print out the second index from the list."
   ]
  },
  {
   "cell_type": "code",
   "execution_count": 31,
   "metadata": {},
   "outputs": [
    {
     "name": "stdout",
     "output_type": "stream",
     "text": [
      "samsung\n"
     ]
    }
   ],
   "source": [
    "# We can also use negative indexing by counting from left to right. Starting with -1 as the last item in the list\n",
    "\n",
    "# Example\n",
    "\n",
    "print(laptop_list[-1])"
   ]
  },
  {
   "cell_type": "markdown",
   "metadata": {},
   "source": [
    "### Range of Indexes\n",
    "\n",
    "You can specify a range of indexes by specifying where to start and where to end the range.\n",
    "\n",
    "When specifying a range, the return value will be a new list with the specified items."
   ]
  },
  {
   "cell_type": "code",
   "execution_count": 32,
   "metadata": {},
   "outputs": [
    {
     "name": "stdout",
     "output_type": "stream",
     "text": [
      "['hp', 'dell']\n"
     ]
    }
   ],
   "source": [
    "# Example \n",
    "print(laptop_list[1:3]) # prints out the items between second and 4th indexes\n",
    "\n",
    "# Note: The search will start at index 1 (included) and end at index 3 (which is not included)."
   ]
  },
  {
   "cell_type": "markdown",
   "metadata": {},
   "source": [
    "#### Change Item Value\n",
    "\n",
    "To change the value of a specific item, refer to the index number"
   ]
  },
  {
   "cell_type": "code",
   "execution_count": 36,
   "metadata": {},
   "outputs": [
    {
     "name": "stdout",
     "output_type": "stream",
     "text": [
      "['lenovo', 'Hellwet Packard', 'Nintendo', 'chrome', 'macintosh', 'samsung']\n"
     ]
    }
   ],
   "source": [
    "# Example\n",
    "\n",
    "# Change hp to hellwet Packard\n",
    "\n",
    "laptop_list = ['lenovo', 'hp','dell','chrome','macintosh', 'samsung']\n",
    "laptop_list[1] = 'Hellwet Packard'\n",
    "\n",
    "# Changing a range of items\n",
    "laptop_list[1:3] = 'Hellwet Packard','Nintendo' # Change hp to hellwet Packard and dell to Nintendo\n",
    "print(laptop_list)"
   ]
  },
  {
   "cell_type": "markdown",
   "metadata": {},
   "source": [
    "### Adding/Append Items\n",
    "\n",
    "To add an item to the end of the list, use the append() method:"
   ]
  },
  {
   "cell_type": "code",
   "execution_count": 1,
   "metadata": {},
   "outputs": [
    {
     "name": "stdout",
     "output_type": "stream",
     "text": [
      "['lenovo', 'hp', 'dell', 'chrome', 'macintosh', 'samsung', 'Nintendo']\n",
      "['lenovo', 'hp', 'dell', 'chrome', 'macintosh', 'samsung', 'Nintendo', 'Futsi']\n"
     ]
    }
   ],
   "source": [
    "# Example\n",
    "laptop_list = ['lenovo', 'hp','dell','chrome','macintosh', 'samsung']\n",
    "laptop_list.append('Nintendo')\n",
    "print(laptop_list)\n",
    "\n",
    "\n",
    "# Using insert() method\n",
    "laptop_list.append('Futsi')\n",
    "print(laptop_list)"
   ]
  },
  {
   "cell_type": "markdown",
   "metadata": {},
   "source": [
    "### Extending a List using extend() method\n",
    "\n",
    "`extend()` method is used to append elements from another list or any other iterable objects(**tuples, dictionaries and sets**) to the current list.\n",
    "\n"
   ]
  },
  {
   "cell_type": "code",
   "execution_count": 5,
   "metadata": {},
   "outputs": [
    {
     "name": "stdout",
     "output_type": "stream",
     "text": [
      "['lenovo', 'hp', 'dell', 'chrome', 'macintosh', 'samsung', 'samsung', 'iphone', 'huawei', 'tecno']\n",
      "['lenovo', 'hp', 'dell', 'chrome', 'macintosh', 'samsung', 'infinix', 'xiaomi', 'itel', 'oppo']\n"
     ]
    }
   ],
   "source": [
    "# Example\n",
    "\n",
    "laptop_list = ['lenovo', 'hp','dell','chrome','macintosh', 'samsung']\n",
    "\n",
    "phone_list = ['samsung','iphone', 'huawei', 'tecno']\n",
    "laptop_list.extend(phone_list)\n",
    "print(laptop_list)\n",
    "\n",
    "# or\n",
    "\n",
    "laptop_list2 = ['lenovo', 'hp','dell','chrome','macintosh', 'samsung']\n",
    "\n",
    "phone_list = ('infinix','xiaomi', 'itel', 'oppo') #tuple\n",
    "laptop_list2.extend(phone_list)\n",
    "print(laptop_list2)"
   ]
  },
  {
   "cell_type": "markdown",
   "metadata": {},
   "source": [
    "### Remove specific item\n",
    "\n",
    "We use the `remove()` method removes the specified item\n",
    "\n"
   ]
  },
  {
   "cell_type": "code",
   "execution_count": 16,
   "metadata": {},
   "outputs": [
    {
     "name": "stdout",
     "output_type": "stream",
     "text": [
      "['xiaomi', 'itel', 'oppo']\n"
     ]
    }
   ],
   "source": [
    "# Example\n",
    "\n",
    "phone_list = ['infinix','xiaomi', 'itel', 'oppo']\n",
    "\n",
    "# remove 'infix' from the list\n",
    "phone_list.remove(\"infinix\")\n",
    "print(phone_list)"
   ]
  },
  {
   "cell_type": "markdown",
   "metadata": {},
   "source": [
    "### Remove Specified Index\n",
    "\n",
    "We use the `pop()` method to remove an item from the list by using the specified index.\n",
    "\n",
    "The `pop()` method works in default by removing the last item in the list. We must therefore specify the item index we want to remove/ delete from the list."
   ]
  },
  {
   "cell_type": "code",
   "execution_count": 10,
   "metadata": {},
   "outputs": [
    {
     "name": "stdout",
     "output_type": "stream",
     "text": [
      "['infinix', 'xiaomi', 'itel']\n",
      "['infinix', 'xiaomi']\n"
     ]
    }
   ],
   "source": [
    "# Example\n",
    "phone_list = ['infinix','xiaomi', 'itel', 'oppo']\n",
    "\n",
    "# remove 'oppo' from the list\n",
    "phone_list.pop(3)\n",
    "print(phone_list)\n",
    "\n",
    "# remove the last item\n",
    "phone_list.pop()\n",
    "print(phone_list)"
   ]
  },
  {
   "cell_type": "code",
   "execution_count": 1,
   "metadata": {},
   "outputs": [
    {
     "name": "stdout",
     "output_type": "stream",
     "text": [
      "del():  ['infinix', 'itel', 'oppo']\n",
      "clear():  []\n"
     ]
    }
   ],
   "source": [
    "# Other methods include\n",
    "\n",
    "# 1. del() - used to the same way as pop() method\n",
    "#example\n",
    "phone_list = ['infinix','xiaomi', 'itel', 'oppo']\n",
    "\n",
    "# remove 'xiaomi' from the list\n",
    "del phone_list[1]\n",
    "print(\"del(): \",phone_list)\n",
    "\n",
    "# 2. clear() - deletes all items in a list/ empties the list\n",
    "# example\n",
    "\n",
    "phone_list.clear()\n",
    "print('clear(): ',phone_list)\n",
    "\n"
   ]
  },
  {
   "cell_type": "markdown",
   "metadata": {},
   "source": [
    "### Sorting Lists\n",
    "\n",
    "List objects have a `sort()` method that will sort the list alphanumerically, in an ascending order by default:"
   ]
  },
  {
   "cell_type": "code",
   "execution_count": 19,
   "metadata": {},
   "outputs": [
    {
     "name": "stdout",
     "output_type": "stream",
     "text": [
      "['infinix', 'itel', 'oppo', 'xiaomi']\n",
      "[30, 54, 65, 79, 80]\n"
     ]
    }
   ],
   "source": [
    "# example \n",
    "phone_list = ['infinix','xiaomi', 'itel', 'oppo']\n",
    "phone_list.sort()\n",
    "print(phone_list)\n",
    "\n",
    "# example 2\n",
    "numlist = [79, 54, 65, 80, 30]\n",
    "numlist.sort()\n",
    "print(numlist)"
   ]
  },
  {
   "cell_type": "code",
   "execution_count": 31,
   "metadata": {},
   "outputs": [
    {
     "name": "stdout",
     "output_type": "stream",
     "text": [
      "[80, 79, 65, 54, 30]\n",
      "['xiaomi', 'oppo', 'itel', 'infinix']\n"
     ]
    }
   ],
   "source": [
    "# sorting in descending order\n",
    "\n",
    "# example 1\n",
    "numlist = [79, 54, 65, 80, 30]\n",
    "numlist.sort(reverse = True)\n",
    "print(numlist)\n",
    "\n",
    "# example 2\n",
    "phone_list = ['infinix','xiaomi', 'itel', 'oppo']\n",
    "phone_list.sort(reverse =True)\n",
    "print(phone_list)\n",
    "\n"
   ]
  },
  {
   "cell_type": "code",
   "execution_count": 29,
   "metadata": {},
   "outputs": [
    {
     "name": "stdout",
     "output_type": "stream",
     "text": [
      "['A', 'B', 'C', 'D', 'a', 'b', 'c', 'd']\n",
      "['Xiaomi', 'infinix', 'itel', 'oppo']\n",
      "['infinix', 'itel', 'oppo', 'Xiaomi']\n"
     ]
    }
   ],
   "source": [
    "# By default the sort() method is case sensitive, resulting in all capital letters being sorted before lower case letters \n",
    "\n",
    "# Example\n",
    "alphabets = ['A','a','B','b','C','c','D','d']\n",
    "alphabets.sort()\n",
    "print(alphabets)\n",
    "\n",
    "# This can give unwanted results especially if an item in our list is a capital letter\n",
    "\n",
    "# Example 1\n",
    "phone_list = ['infinix','Xiaomi', 'itel', 'oppo']\n",
    "phone_list.sort()\n",
    "print(phone_list)\n",
    "\n",
    "# So if you want a case-insensitive sort function, use str.lower as a key function to turn all items to lower case.\n",
    "\n",
    "# Example 2\n",
    "phone_list = ['infinix','Xiaomi', 'itel', 'oppo']\n",
    "phone_list.sort(key = str.lower)\n",
    "print(phone_list)\n",
    "\n",
    "# As you've seen example 2 solves the problem."
   ]
  },
  {
   "cell_type": "code",
   "execution_count": 32,
   "metadata": {},
   "outputs": [
    {
     "name": "stdout",
     "output_type": "stream",
     "text": [
      "[10, 9, 8, 7, 6, 5, 4, 3, 2, 1]\n"
     ]
    }
   ],
   "source": [
    "# Reversing the order of a list from last to first Using reverse() method\n",
    "\n",
    "numlist = [1,2,3,4,5,6,7,8,9,10]\n",
    "numlist.reverse()\n",
    "print(numlist)"
   ]
  },
  {
   "cell_type": "markdown",
   "metadata": {},
   "source": [
    "###  Copying a list\n",
    "\n",
    "when copying a list, use the following methods:\n",
    "\n",
    "* copy()\n",
    "* list()\n",
    "\n",
    "You cannot copy a list simply by typing list2 = list1, because list2 will only be a reference to list1.\n",
    "Thus the changes made in list1 will automatically also be made in list2\n"
   ]
  },
  {
   "cell_type": "code",
   "execution_count": 37,
   "metadata": {},
   "outputs": [
    {
     "name": "stdout",
     "output_type": "stream",
     "text": [
      "[1, 2, 3, 4, 5, 6, 7, 8, 9, 10]\n",
      "[1, 2, 3, 4, 5, 6, 7, 8, 9, 10]\n",
      "[1, 2, 3, 4, 5, 6, 7, 8, 9, 10, 'award']\n"
     ]
    }
   ],
   "source": [
    "# Example\n",
    "\n",
    "#copy()\n",
    "numlist = [1,2,3,4,5,6,7,8,9,10]\n",
    "topten = numlist.copy()\n",
    "print(topten)\n",
    "\n",
    "#list\n",
    "numlist = [1,2,3,4,5,6,7,8,9,10]\n",
    "topten = list(numlist)\n",
    "topten.append('award') # try changing the list and see\n",
    "print(numlist)\n",
    "print(topten)\n"
   ]
  },
  {
   "cell_type": "markdown",
   "metadata": {},
   "source": [
    "### Joining lists\n",
    "\n",
    "lists can be join using:\n",
    "    \n",
    "* use + operator to join \n",
    "* use extend() method\n",
    "* join one by one using for loop and append() method\n"
   ]
  },
  {
   "cell_type": "code",
   "execution_count": 40,
   "metadata": {},
   "outputs": [
    {
     "name": "stdout",
     "output_type": "stream",
     "text": [
      "['lenovo', 'hp', 'dell', 'chrome', 'macintosh', 'samsung', 'samsung', 'iphone', 'huawei', 'tecno']\n",
      "['lenovo', 'hp', 'dell', 'chrome', 'macintosh', 'samsung', 'samsung', 'iphone', 'huawei', 'tecno']\n",
      "['samsung', 'iphone', 'huawei', 'tecno', 'lenovo', 'hp', 'dell', 'chrome', 'macintosh', 'samsung', 'samsung', 'iphone', 'huawei', 'tecno']\n"
     ]
    }
   ],
   "source": [
    "# Examples\n",
    "laptop_list = ['lenovo', 'hp','dell','chrome','macintosh', 'samsung']\n",
    "\n",
    "phone_list = ['samsung','iphone', 'huawei', 'tecno']\n",
    "\n",
    "#use + operator to join\n",
    "print(laptop_list + phone_list)\n",
    "\n",
    "#use extend() method\n",
    "laptop_list.extend(phone_list)\n",
    "print(laptop_list)\n",
    "\n",
    "#join one by one using for loop and append() method\n",
    "for i in laptop_list:\n",
    "    phone_list.append(i)\n",
    "print(phone_list)"
   ]
  },
  {
   "cell_type": "markdown",
   "metadata": {},
   "source": [
    "### 3.2 Tuples\n",
    "\n",
    "Tuples are used to store multiple items in a single variable.\n",
    "\n",
    "A tuple characterists are:\n",
    "\n",
    "* ordered\n",
    "* immutable  --> unchangeable.\n",
    "* Allow duplicates\n",
    "\n",
    "Tuples are written with round brackets i.e()"
   ]
  },
  {
   "cell_type": "code",
   "execution_count": 43,
   "metadata": {},
   "outputs": [
    {
     "name": "stdout",
     "output_type": "stream",
     "text": [
      "('banana', 'mango', 'orange', 'avocado')\n",
      "('sukuma', 'cabbage', 'onions', 'tomatoes')\n"
     ]
    }
   ],
   "source": [
    "# Example\n",
    "\n",
    "fruits  = ('banana', 'mango', 'orange','avocado')\n",
    "print(fruits)\n",
    "\n",
    "# or\n",
    "\n",
    "veges = tuple(('sukuma', 'cabbage', 'onions','tomatoes'))\n",
    "print(veges)\n"
   ]
  },
  {
   "cell_type": "markdown",
   "metadata": {},
   "source": [
    "## Brain Challenge 3"
   ]
  },
  {
   "cell_type": "code",
   "execution_count": null,
   "metadata": {},
   "outputs": [],
   "source": [
    "#1. Find the length of the tuples above, data type and create another tuple using tuple() constructor method\n",
    "#2. Join the two tuples (veges and fruits) into variable 'healthy foods'\n",
    "\n",
    "\n",
    "#=================================YOUR CODE GOES HERE===========================================================\n",
    "\n",
    "\n",
    "\n",
    "\n",
    "\n",
    "\n",
    "\n",
    "\n",
    "#===============================================================================================================\n",
    "\n",
    "# Hint Tuples share almost everything apart from mutabiltiy"
   ]
  },
  {
   "cell_type": "code",
   "execution_count": 47,
   "metadata": {},
   "outputs": [
    {
     "name": "stdout",
     "output_type": "stream",
     "text": [
      "2\n",
      "3\n"
     ]
    }
   ],
   "source": [
    "# Other methods used in tuples\n",
    "\n",
    "# 1. count()   Returns the number of times a specified value occurs in a tuple\n",
    "# Example\n",
    "\n",
    "veges = tuple(('sukuma', 'cabbage', 'onions','tomatoes','onions'))\n",
    "\n",
    "print(veges.count('onions'))\n",
    "\n",
    "# 2. index()   Searches the tuple for a specified value and returns the position of where it was found\n",
    "\n",
    "veges = tuple(('sukuma', 'cabbage', 'onions','tomatoes','onions'))\n",
    "\n",
    "print(veges.index('tomatoes'))"
   ]
  },
  {
   "cell_type": "markdown",
   "metadata": {},
   "source": [
    "### 3.3 Dictionaries\n",
    "\n",
    "Dictionaries are used to store data values in key:value pairs.(Works like just the English dictionary and can be referred to by using the key name)\n",
    "\n",
    "A dictionary characteristics are:\n",
    "    \n",
    "* ordered\n",
    "* changeable \n",
    "* does not allow duplicates\n",
    "\n",
    "Dictionaries are written with curly brackets, and have keys and values:\n",
    "\n",
    "**syntax**\n",
    "dict = {key:value}"
   ]
  },
  {
   "cell_type": "code",
   "execution_count": 48,
   "metadata": {},
   "outputs": [
    {
     "name": "stdout",
     "output_type": "stream",
     "text": [
      "{'breakfast': 'Bread', 'lunch': 'rice', 'supper': 'Ugali'}\n"
     ]
    }
   ],
   "source": [
    "# Example\n",
    "\n",
    "Meals = {\n",
    "  \"breakfast\": \"Bread\",\n",
    "  \"lunch\": \"rice\",\n",
    "  \"supper\": \"Ugali\"\n",
    "}\n",
    "print(Meals)"
   ]
  },
  {
   "cell_type": "markdown",
   "metadata": {},
   "source": [
    "### Accesing Dictionary Items"
   ]
  },
  {
   "cell_type": "code",
   "execution_count": 46,
   "metadata": {},
   "outputs": [
    {
     "name": "stdout",
     "output_type": "stream",
     "text": [
      "dict_items([('breakfast', 'Bread'), ('lunch', 'rice'), ('supper', 'Ugali')])\n"
     ]
    }
   ],
   "source": [
    "# Example\n",
    "Meals = {\n",
    "  \"breakfast\": \"Bread\",\n",
    "  \"lunch\": \"rice\",\n",
    "  \"supper\": \"Ugali\"\n",
    "}\n",
    "#print(Meals['supper'])\n",
    "\n",
    "# You can also use the following methods\n",
    "\n",
    "# get()\n",
    "#print(Meals.get('supper'))\n",
    "\n",
    "# items()  --> gets all the items in a dictionary and returns them as a tuple in a list.\n",
    "print(Meals.items())"
   ]
  },
  {
   "cell_type": "markdown",
   "metadata": {},
   "source": [
    "### Accessing Dictionary keys"
   ]
  },
  {
   "cell_type": "code",
   "execution_count": 9,
   "metadata": {},
   "outputs": [
    {
     "name": "stdout",
     "output_type": "stream",
     "text": [
      "dict_keys(['breakfast', 'lunch', 'supper'])\n"
     ]
    }
   ],
   "source": [
    "# Here we use key() method - used to get all the keys in a dictionary\n",
    "# Example\n",
    "\n",
    "Meals = {\n",
    "  \"breakfast\": \"Bread\",\n",
    "  \"lunch\": \"rice\",\n",
    "  \"supper\": \"Ugali\"\n",
    "}\n",
    "print(Meals.keys())\n",
    "\n",
    "'''Just like english dictionary, the list of the keys is a view of the dictionary, meaning that any changes done to\n",
    "the dictionary will be reflected in the list of keys.'''"
   ]
  },
  {
   "cell_type": "markdown",
   "metadata": {},
   "source": [
    "### Accessing Dictionary Values\n",
    "\n",
    "We use the values() method to return a list of all the values in the dictionary."
   ]
  },
  {
   "cell_type": "code",
   "execution_count": 11,
   "metadata": {},
   "outputs": [
    {
     "name": "stdout",
     "output_type": "stream",
     "text": [
      "dict_values(['Bread', 'rice', 'Ugali'])\n"
     ]
    }
   ],
   "source": [
    "# Example\n",
    "Meals = {\n",
    "  \"breakfast\": \"Bread\",\n",
    "  \"lunch\": \"rice\",\n",
    "  \"supper\": \"Ugali\"\n",
    "}\n",
    "print(Meals.values())"
   ]
  },
  {
   "cell_type": "markdown",
   "metadata": {},
   "source": [
    "### Changing/ Updating Dictionary values\n",
    "\n",
    "We can change the value of a specific item in a dictionary by referring to its key name."
   ]
  },
  {
   "cell_type": "code",
   "execution_count": 18,
   "metadata": {},
   "outputs": [
    {
     "name": "stdout",
     "output_type": "stream",
     "text": [
      "{'breakfast': 'milk', 'lunch': 'rice', 'supper': 'Ugali'}\n",
      "{'breakfast': 'milk', 'lunch': 'rice', 'supper': 'chapati'}\n",
      "{'breakfast': 'milk', 'lunch': 'rice', 'supper': 'chapati', 'evening': 'uji'}\n"
     ]
    }
   ],
   "source": [
    "# Example1\n",
    "Meals = {\n",
    "  \"breakfast\": \"Bread\",\n",
    "  \"lunch\": \"rice\",\n",
    "  \"supper\": \"Ugali\"\n",
    "}\n",
    "\n",
    "Meals['breakfast'] = 'milk'\n",
    "print(Meals)\n",
    "\n",
    "# Example 2\n",
    "\n",
    "# Using update() method to update my 'supper' meal\n",
    "Meals.update({'supper':'chapati'})\n",
    "print(Meals)\n",
    "\n",
    "# when using update() method, the parameters must be in the dictionary format i.e {key:value}\n",
    "\n"
   ]
  },
  {
   "cell_type": "markdown",
   "metadata": {},
   "source": [
    "### Adding/ Removing items in a dict"
   ]
  },
  {
   "cell_type": "code",
   "execution_count": 20,
   "metadata": {},
   "outputs": [
    {
     "name": "stdout",
     "output_type": "stream",
     "text": [
      "{'breakfast': 'Bread', 'lunch': 'rice', 'supper': 'Ugali', 'evening': 'uji'}\n",
      "{'breakfast': 'Bread', 'lunch': 'rice', 'supper': 'Ugali', 'evening': 'strong tea'}\n"
     ]
    }
   ],
   "source": [
    "# We use the same principle of changing values to add new items\n",
    "\n",
    "# Example\n",
    "Meals = {\n",
    "  \"breakfast\": \"Bread\",\n",
    "  \"lunch\": \"rice\",\n",
    "  \"supper\": \"Ugali\"\n",
    "}\n",
    "\n",
    "Meals['evening'] = 'uji'\n",
    "print(Meals)\n",
    "\n",
    "# Update()  method can also be used to add a new item into a dictionary\n",
    "\n",
    "# Example\n",
    "Meals.update({'evening':'strong tea'})\n",
    "print(Meals)"
   ]
  },
  {
   "cell_type": "code",
   "execution_count": 25,
   "metadata": {},
   "outputs": [
    {
     "name": "stdout",
     "output_type": "stream",
     "text": [
      "{'breakfast': 'Bread', 'supper': 'Ugali'}\n",
      "{'breakfast': 'Bread'}\n",
      "{}\n",
      "{'breakfast': 'Bread', 'lunch': 'rice'}\n"
     ]
    }
   ],
   "source": [
    "# Removing items\n",
    "\n",
    "# Example 1 --> using pop() method --- deletes the specified key\n",
    "\n",
    "Meals = {\n",
    "  \"breakfast\": \"Bread\",\n",
    "  \"lunch\": \"rice\",\n",
    "  \"supper\": \"Ugali\"\n",
    "}\n",
    "\n",
    "Meals.pop('lunch')\n",
    "print(Meals)\n",
    "\n",
    "# Example 2 --> using del() method -- can delete a specific key or entire dict\n",
    "\n",
    "del Meals['supper']\n",
    "print(Meals)\n",
    "\n",
    "# Example 3 --> using clear() method ---  clears the entire dict\n",
    "\n",
    "Meals.clear()\n",
    "print(Meals)\n",
    "\n",
    "# Example 4 --> using popitem() method ---removes the last item(key:value pair) in the dictionary\n",
    "\n",
    "Meals1 = {\n",
    "  \"breakfast\": \"Bread\",\n",
    "  \"lunch\": \"rice\",\n",
    "  \"supper\": \"Ugali\"\n",
    "}\n",
    "\n",
    "Meals1.popitem()\n",
    "print(Meals1)"
   ]
  },
  {
   "cell_type": "markdown",
   "metadata": {},
   "source": [
    "**Note**:\n",
    "\n",
    "1. When copying dictionaries use the `copy()` method or `dict()` method as seen in lists\n",
    "2. Dictionaries can be nested i.e many dictionaries in a bigger dictionary"
   ]
  },
  {
   "cell_type": "code",
   "execution_count": null,
   "metadata": {},
   "outputs": [],
   "source": []
  },
  {
   "cell_type": "markdown",
   "metadata": {},
   "source": [
    "### 3.4 Sets\n",
    "\n",
    "Sets are used to store multiple items in a single variable.\n",
    "\n",
    "**Characteristics** of a set\n",
    "\n",
    "* unordered\n",
    "* unindexed\n",
    "* Do not allow duplicates\n",
    "\n",
    "Sets are written with curly brackets i.e {}\n",
    "\n",
    "example: `trees = {'Gravelia', 'Eucalyptus', 'Jacaranda','Bottle brush'}`\n",
    "\n",
    "Once a set is created, you cannot change its items, but you can add new items."
   ]
  },
  {
   "cell_type": "code",
   "execution_count": 29,
   "metadata": {},
   "outputs": [
    {
     "name": "stdout",
     "output_type": "stream",
     "text": [
      "{'Gravelia', 'Eucalyptus', 'Bottle brush', 'Jacaranda'}\n",
      "{'Gravelia', 'Eucalyptus', 'Bottle brush', 'Jacaranda'}\n"
     ]
    }
   ],
   "source": [
    "#example: `\n",
    "trees = {'Gravelia', 'Eucalyptus', 'Jacaranda','Bottle brush'}\n",
    "print(trees)\n",
    "\n",
    "#or --- using set() constructor\n",
    "\n",
    "trees = set(('Gravelia', 'Eucalyptus', 'Jacaranda','Bottle brush'))\n",
    "print(trees)\n",
    "\n",
    "# As you will sets are the only python arrays that have no order "
   ]
  },
  {
   "cell_type": "markdown",
   "metadata": {},
   "source": [
    "### Accessing items in a set\n",
    "\n",
    "Since set items are unordered, we cannot use indexing or keying to access items from it.\n",
    "\n",
    "This leaves us with no other option but to use `for` loop to access items in a set."
   ]
  },
  {
   "cell_type": "code",
   "execution_count": 31,
   "metadata": {},
   "outputs": [
    {
     "name": "stdout",
     "output_type": "stream",
     "text": [
      "Gravelia\n",
      "Eucalyptus\n",
      "Bottle brush\n",
      "Jacaranda\n",
      "True\n"
     ]
    }
   ],
   "source": [
    "# example\n",
    "trees = {'Gravelia', 'Eucalyptus', 'Jacaranda','Bottle brush'}\n",
    "\n",
    "for tree in trees:\n",
    "    print(tree)\n",
    "    \n",
    "# example 2 --> check if 'Jacaranda' is in trees set\n",
    "print('Jacaranda' in trees) # returns True when condition is met and False if otherwise\n"
   ]
  },
  {
   "cell_type": "markdown",
   "metadata": {},
   "source": [
    "### Adding Items into a Set\n",
    "\n",
    " We can use two methods to add items into a set:\n",
    "\n",
    "* update() method -->  adds another set or iterable into an existing set\n",
    "* add() method --> used to add one item into an existing set."
   ]
  },
  {
   "cell_type": "code",
   "execution_count": 4,
   "metadata": {},
   "outputs": [
    {
     "name": "stdout",
     "output_type": "stream",
     "text": [
      "{'Bottle brush', 'Orange', 'Avocado', 'Jacaranda', 'Eucalyptus', 'Gravelia', 'Mango'}\n",
      "{'Bottle brush', 'Pear', 'Orange', 'Avocado', 'Jacaranda', 'Eucalyptus', 'Gravelia', 'Mango'}\n"
     ]
    }
   ],
   "source": [
    "# Examples\n",
    "trees = {'Gravelia', 'Eucalyptus', 'Jacaranda','Bottle brush'}\n",
    "\n",
    "# update() method \n",
    "fruit_trees = ['Mango', 'Avocado','Orange']\n",
    "trees.update(fruit_trees)\n",
    "print(trees)\n",
    "\n",
    "# add() method \n",
    "trees.add('Pear')\n",
    "print(trees)"
   ]
  },
  {
   "cell_type": "markdown",
   "metadata": {},
   "source": [
    "### Removing Items from a set\n",
    "\n",
    "We have many methods to remove an item in a set like:\n",
    "\n",
    "* remove() method\n",
    "* discard() method\n",
    "* pop() --> deletes the last item in a set\n",
    "* clear() --> empties the set\n",
    "* del() --> deletes the set completely\n",
    "\n",
    "We shall look at only the first two since the rest we have already seen how they work."
   ]
  },
  {
   "cell_type": "code",
   "execution_count": null,
   "metadata": {},
   "outputs": [],
   "source": []
  },
  {
   "cell_type": "code",
   "execution_count": 36,
   "metadata": {},
   "outputs": [
    {
     "name": "stdout",
     "output_type": "stream",
     "text": [
      "{'Eucalyptus', 'Orange', 'Avocado', 'Gravelia', 'Jacaranda', 'Mango', 'Bottle brush'}\n",
      "{'Eucalyptus', 'Orange', 'Avocado', 'Gravelia', 'Jacaranda', 'Mango'}\n"
     ]
    }
   ],
   "source": [
    "# Example\n",
    "\n",
    "trees ={'Orange', 'Mango', 'Bottle brush', 'Avocado', 'Gravelia', 'Pear', 'Eucalyptus', 'Jacaranda'}\n",
    "\n",
    "# remove()\n",
    "trees.remove('Pear')\n",
    "print(trees)\n",
    "\n",
    "# dicard()\n",
    "trees.discard('Bottle brush')\n",
    "print(trees)"
   ]
  },
  {
   "cell_type": "code",
   "execution_count": null,
   "metadata": {},
   "outputs": [],
   "source": []
  },
  {
   "cell_type": "markdown",
   "metadata": {},
   "source": [
    "### Joining Sets\n",
    "\n",
    "There are several ways to join two or more sets in Python.\n",
    "\n",
    "These include:\n",
    "* `union()` method ---> returns a new set containing all items from both sets \n",
    "* `update()` method ---> inserts all the items from one set into another"
   ]
  },
  {
   "cell_type": "code",
   "execution_count": 40,
   "metadata": {},
   "outputs": [
    {
     "name": "stdout",
     "output_type": "stream",
     "text": [
      "{'Orange', 'Mango', 'Bottle brush', 'Avocado', 'Gravelia', 'Eucalyptus', 'Jacaranda'}\n",
      "{'Orange', 'Mango', 'Bottle brush', 'Avocado', 'Gravelia', 'Eucalyptus', 'Jacaranda'}\n"
     ]
    }
   ],
   "source": [
    "# Examples\n",
    "trees = {'Gravelia', 'Eucalyptus', 'Jacaranda','Bottle brush'}\n",
    "fruit_trees = {'Mango', 'Avocado','Orange'}\n",
    "\n",
    "# union()\n",
    "all_trees = trees.union(fruit_trees)\n",
    "print(all_trees)\n",
    "\n",
    "# update() method \n",
    "trees.update(fruit_trees)\n",
    "print(trees)"
   ]
  },
  {
   "cell_type": "markdown",
   "metadata": {},
   "source": [
    "### Finding an itersection between two sets\n",
    "\n",
    "We use `intersection_update()` to find the intersection between 2 sets"
   ]
  },
  {
   "cell_type": "code",
   "execution_count": 42,
   "metadata": {},
   "outputs": [
    {
     "name": "stdout",
     "output_type": "stream",
     "text": [
      "{'orange'}\n",
      "{'orange'}\n"
     ]
    }
   ],
   "source": [
    "# Example\n",
    "\n",
    "colors={'orange','red','green'}\n",
    "fruits = {'mango','banana','orange'}\n",
    "\n",
    "colors.intersection_update(fruits)\n",
    "print(colors)\n",
    "\n",
    "#or we can use the intersection() method\n",
    "colors.intersection(fruits)\n",
    "print(colors)"
   ]
  },
  {
   "cell_type": "markdown",
   "metadata": {},
   "source": [
    "### Finding The symmetric difference of sets\n",
    "\n",
    "We shall use the symmetric_difference_update() method to keep only the elements that are NOT present in both sets.\n"
   ]
  },
  {
   "cell_type": "code",
   "execution_count": 45,
   "metadata": {},
   "outputs": [
    {
     "name": "stdout",
     "output_type": "stream",
     "text": [
      "{'green', 'banana', 'red', 'mango'}\n",
      "{'green', 'banana', 'red', 'mango'}\n"
     ]
    }
   ],
   "source": [
    "# Example \n",
    "\n",
    "# symmetric_difference_update()\n",
    "colors={'orange','red','green'}\n",
    "fruits = {'mango','banana','orange'}\n",
    "\n",
    "colors.symmetric_difference_update(fruits)\n",
    "print(colors)\n",
    "\n",
    "# or we can also use symmetric_difference() method to find the symmetric difference as below\n",
    "\n",
    "colors.symmetric_difference(fruits)\n",
    "print(colors)\n"
   ]
  },
  {
   "cell_type": "code",
   "execution_count": null,
   "metadata": {},
   "outputs": [],
   "source": []
  }
 ],
 "metadata": {
  "kernelspec": {
   "display_name": "Python 3",
   "language": "python",
   "name": "python3"
  },
  "language_info": {
   "codemirror_mode": {
    "name": "ipython",
    "version": 3
   },
   "file_extension": ".py",
   "mimetype": "text/x-python",
   "name": "python",
   "nbconvert_exporter": "python",
   "pygments_lexer": "ipython3",
   "version": "3.7.4"
  }
 },
 "nbformat": 4,
 "nbformat_minor": 2
}
